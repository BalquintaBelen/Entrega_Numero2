{
 "cells": [
  {
   "cell_type": "markdown",
   "metadata": {},
   "source": [
    "# *Práctico N°2* "
   ]
  },
  {
   "cell_type": "markdown",
   "metadata": {},
   "source": [
    "Un club de hockey posee las estadísticas de todxs sus jugadorxs de la última\n",
    "temporada jugada del torneo de hockey mixto. Poseen una lista con los nombres, otra \n",
    "con los goles a favor, otra con los goles evitados y la última con las asistencias\n",
    "realizadas. El club está por otorgar los premios de cierre de temporada y necesita:\n",
    "\n",
    "1. Generar una estructura todas las estadísticas asociadas a cada jugador o\n",
    "jugadora."
   ]
  },
  {
   "cell_type": "markdown",
   "metadata": {},
   "source": [
    "Importo la carpeta donde tengo guardadas las funciones"
   ]
  },
  {
   "cell_type": "code",
   "execution_count": 6,
   "metadata": {},
   "outputs": [
    {
     "name": "stdout",
     "output_type": "stream",
     "text": [
      "[('Agustin', 0, 0, 0), ('Yanina', 10, 2, 5), ('Andrés', 4, 0, 1), ('Ariadna', 0, 0, 0), ('Bautista', 5, 5, 5), ('CAROLINA', 14, 2, 2), ('CESAR', 0, 0, 0), ('David', 0, 0, 0), ('Diego', 7, 1, 1), ('Dolores', 2, 2, 2), ('DYLAN', 1, 0, 1), ('ELIANA', 1, 5, 5), ('Emanuel', 1, 5, 5), ('Fabián', 5, 0, 0), ('Noelia', 6, 1, 1), (\"Francsica'\", 1, 0, 0), ('FEDERICO', 1, 2, 2), ('Fernanda', 2, 3, 3), ('GONZALO', 0, 0, 1), ('Nancy', 11, 0, 0)]\n"
     ]
    }
   ],
   "source": [
    "import Sub_incisos\n",
    "names = \"\"\" Agustin, Yanina, Andrés, Ariadna, Bautista, CAROLINA,\n",
    "CESAR, David, Diego, Dolores, DYLAN, ELIANA, Emanuel, Fabián, Noelia,\n",
    "Francsica', FEDERICO, Fernanda, GONZALO, Nancy \"\"\"\n",
    "names = names.replace(\",\",\"\")\n",
    "names_players = names.split()\n",
    "goals = [0, 10, 4, 0, 5, 14, 0, 0, 7, 2, 1, 1, 1, 5, 6, 1, 1, 2, 0, 11]  # Goles a favor\n",
    "goals_avoided = [0, 2, 0, 0, 5, 2, 0, 0, 1, 2, 0, 5, 5, 0, 1, 0, 2, 3, 0, 0] # Goles Evitados\n",
    "assists = [0, 5, 1, 0, 5, 2, 0, 0, 1, 2, 1, 5, 5, 0, 1, 0, 2, 3, 1, 0] # Asistencias realizadas\n",
    "# con un zip, genera tuplas con los datos de cada jugador individual\n",
    "datos = zip(names_players,goals,goals_avoided,assists)\n",
    "# creo una lista de tuplas para visualizarlo \n",
    "datosJugadores = list(datos)\n",
    "print(datosJugadores)"
   ]
  },
  {
   "cell_type": "markdown",
   "metadata": {},
   "source": [
    "2. Conocer el nombre y la cantidad de goles del goleador o goleadora."
   ]
  },
  {
   "cell_type": "code",
   "execution_count": 7,
   "metadata": {},
   "outputs": [
    {
     "name": "stdout",
     "output_type": "stream",
     "text": [
      "El goleador/goleadora fue: CAROLINA con 14 goles\n"
     ]
    }
   ],
   "source": [
    "# llamo a la funcion Goles donde me devuelve un diccionario con el nombre y los goles del ganador\n",
    "ganador = Sub_incisos.Goles(datosJugadores)\n",
    "print(f\"El goleador/goleadora fue: {ganador['Nombre']} con {ganador['Goles']} goles\")"
   ]
  },
  {
   "cell_type": "markdown",
   "metadata": {},
   "source": [
    "3. Conocer el nombre del jugador o jugadora más influyente, esto se consigue\n",
    "sumando goles a favor, goles evitados y cantidad de asistencias. La particularidad\n",
    "es que los goles a favor, evitados y las asistencias NO valen lo mismo (es un\n",
    "promedio ponderado):\n",
    "\n",
    "goles a favor  --> 1.5\n",
    "\n",
    "goles en evitados --> 1.25\n",
    "\n",
    "asistencias --> 1"
   ]
  },
  {
   "cell_type": "code",
   "execution_count": 8,
   "metadata": {},
   "outputs": [
    {
     "name": "stdout",
     "output_type": "stream",
     "text": [
      "El nombre del jugador/ jugadora mas influyente fue: CAROLINA con un valor de: 25.5\n"
     ]
    }
   ],
   "source": [
    "dic = {\n",
    "    \"GolesAFavor\": 1.5,\n",
    "    \"GolesEvitados\": 1.25,\n",
    "    \"Asistencias\": 1\n",
    "}\n",
    "NombreMasInfluyente = Sub_incisos.Influyente(dic,datosJugadores)\n",
    "print(f\"El nombre del jugador/ jugadora mas influyente fue: {NombreMasInfluyente['nombre']} con un valor de: {NombreMasInfluyente['suma_de_todo']}\")"
   ]
  },
  {
   "cell_type": "markdown",
   "metadata": {},
   "source": [
    "4. Conocer el promedio de goles por partido del equipo en general. Dato: Se jugaron\n",
    "25 partidos en la temporada."
   ]
  },
  {
   "cell_type": "code",
   "execution_count": 9,
   "metadata": {},
   "outputs": [
    {
     "name": "stdout",
     "output_type": "stream",
     "text": [
      "El promedio de goles por partido es de: 2.84\n"
     ]
    }
   ],
   "source": [
    "total_partidos = 25\n",
    "promedioGoles = Sub_incisos.promedio(datosJugadores,total_partidos)\n",
    "print(f\"El promedio de goles por partido es de: {promedioGoles}\")"
   ]
  },
  {
   "cell_type": "markdown",
   "metadata": {},
   "source": [
    "5. Conocer el promedio de goles por partido del goleador o goleadora. Dato: Se\n",
    "jugaron 25 partidos en la temporada."
   ]
  },
  {
   "cell_type": "code",
   "execution_count": 10,
   "metadata": {},
   "outputs": [
    {
     "name": "stdout",
     "output_type": "stream",
     "text": [
      "El promedio de goles de CAROLINA es de 0.56\n"
     ]
    }
   ],
   "source": [
    "# llamo a la funcion promedio de goles del ganador, pasandole cual es el ganador con sus goles y la cantidad de partidos\n",
    "promedioGolesDelGanador = Sub_incisos.PromGolesJugador(ganador,total_partidos)\n",
    "print(f\"El promedio de goles de {ganador['Nombre']} es de {promedioGolesDelGanador}\")"
   ]
  }
 ],
 "metadata": {
  "kernelspec": {
   "display_name": "venv",
   "language": "python",
   "name": "python3"
  },
  "language_info": {
   "codemirror_mode": {
    "name": "ipython",
    "version": 3
   },
   "file_extension": ".py",
   "mimetype": "text/x-python",
   "name": "python",
   "nbconvert_exporter": "python",
   "pygments_lexer": "ipython3",
   "version": "3.11.2"
  }
 },
 "nbformat": 4,
 "nbformat_minor": 2
}
